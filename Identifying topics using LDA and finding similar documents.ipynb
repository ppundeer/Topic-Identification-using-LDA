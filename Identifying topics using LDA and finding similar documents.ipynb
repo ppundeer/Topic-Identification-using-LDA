{
 "cells": [
  {
   "cell_type": "markdown",
   "metadata": {},
   "source": [
    "## LDA and Document Similarity\n",
    "\n",
    "We are working fake news articles supplied by Kaggle. We will train an LDA model on this corpus of fake news to see what topics emerge."
   ]
  },
  {
   "cell_type": "code",
   "execution_count": 1,
   "metadata": {},
   "outputs": [],
   "source": [
    "# import dependencies\n",
    "%matplotlib inline\n",
    "import pandas as pd\n",
    "import numpy as np\n",
    "import nltk\n",
    "from nltk.corpus import stopwords\n",
    "import gensim\n",
    "from gensim.models import LdaModel \n",
    "from gensim import models, corpora, similarities\n",
    "import re\n",
    "from nltk.stem.porter import PorterStemmer\n",
    "import time\n",
    "from nltk import FreqDist\n",
    "from scipy.stats import entropy\n",
    "import matplotlib.pyplot as plt\n",
    "import seaborn as sns\n",
    "sns.set_style(\"darkgrid\")"
   ]
  },
  {
   "cell_type": "code",
   "execution_count": 3,
   "metadata": {},
   "outputs": [
    {
     "data": {
      "text/html": [
       "<div>\n",
       "<style scoped>\n",
       "    .dataframe tbody tr th:only-of-type {\n",
       "        vertical-align: middle;\n",
       "    }\n",
       "\n",
       "    .dataframe tbody tr th {\n",
       "        vertical-align: top;\n",
       "    }\n",
       "\n",
       "    .dataframe thead th {\n",
       "        text-align: right;\n",
       "    }\n",
       "</style>\n",
       "<table border=\"1\" class=\"dataframe\">\n",
       "  <thead>\n",
       "    <tr style=\"text-align: right;\">\n",
       "      <th></th>\n",
       "      <th>uuid</th>\n",
       "      <th>author</th>\n",
       "      <th>title</th>\n",
       "      <th>text</th>\n",
       "      <th>language</th>\n",
       "      <th>site_url</th>\n",
       "      <th>country</th>\n",
       "    </tr>\n",
       "  </thead>\n",
       "  <tbody>\n",
       "    <tr>\n",
       "      <th>0</th>\n",
       "      <td>0f5065318e26607b5284254e1b5dbeeecc24433e</td>\n",
       "      <td>Editor</td>\n",
       "      <td>The Pleiadian Video That Triggered My Kundalin...</td>\n",
       "      <td>Awakening Our Truth: This video forced me to q...</td>\n",
       "      <td>english</td>\n",
       "      <td>theeventchronicle.com</td>\n",
       "      <td>US</td>\n",
       "    </tr>\n",
       "    <tr>\n",
       "      <th>1</th>\n",
       "      <td>d02c774f3cfbd9a58ac425ebed784da28bc4d7e9</td>\n",
       "      <td>NaN</td>\n",
       "      <td>Fox News Just Exposed Hillary’s ILLEGAL VOTING...</td>\n",
       "      <td>Home / News / Fox News Just Exposed Hillary’s ...</td>\n",
       "      <td>english</td>\n",
       "      <td>departed.co</td>\n",
       "      <td>US</td>\n",
       "    </tr>\n",
       "    <tr>\n",
       "      <th>2</th>\n",
       "      <td>b23c68b588679f3b2ac663e6a9f4fd915fc89fcb</td>\n",
       "      <td>Scott Buss</td>\n",
       "      <td>Hope, Change, Lies and Greatness</td>\n",
       "      <td>One of the themes of this election cycle in Am...</td>\n",
       "      <td>english</td>\n",
       "      <td>freedomoutpost.com</td>\n",
       "      <td>US</td>\n",
       "    </tr>\n",
       "    <tr>\n",
       "      <th>3</th>\n",
       "      <td>085bf8677085aecc02a1dd01fd6c1cbb6186d852</td>\n",
       "      <td>NaN</td>\n",
       "      <td>Reduce Nurse Burnout by Treating Nurses as Wel...</td>\n",
       "      <td>Prev post Page 1 of 4 Next \\nNurses are among ...</td>\n",
       "      <td>english</td>\n",
       "      <td>undergroundhealth.com</td>\n",
       "      <td>BG</td>\n",
       "    </tr>\n",
       "    <tr>\n",
       "      <th>4</th>\n",
       "      <td>08aacc219b96583768b322ce7e2ee9e9294948e9</td>\n",
       "      <td>IWB</td>\n",
       "      <td>Bank of Canada Commentary Whipsaws Loonie</td>\n",
       "      <td>Bank of Canada Commentary Whipsaws Loonie   \\n...</td>\n",
       "      <td>english</td>\n",
       "      <td>investmentwatchblog.com</td>\n",
       "      <td>US</td>\n",
       "    </tr>\n",
       "  </tbody>\n",
       "</table>\n",
       "</div>"
      ],
      "text/plain": [
       "                                       uuid      author  \\\n",
       "0  0f5065318e26607b5284254e1b5dbeeecc24433e      Editor   \n",
       "1  d02c774f3cfbd9a58ac425ebed784da28bc4d7e9         NaN   \n",
       "2  b23c68b588679f3b2ac663e6a9f4fd915fc89fcb  Scott Buss   \n",
       "3  085bf8677085aecc02a1dd01fd6c1cbb6186d852         NaN   \n",
       "4  08aacc219b96583768b322ce7e2ee9e9294948e9         IWB   \n",
       "\n",
       "                                               title  \\\n",
       "0  The Pleiadian Video That Triggered My Kundalin...   \n",
       "1  Fox News Just Exposed Hillary’s ILLEGAL VOTING...   \n",
       "2                   Hope, Change, Lies and Greatness   \n",
       "3  Reduce Nurse Burnout by Treating Nurses as Wel...   \n",
       "4          Bank of Canada Commentary Whipsaws Loonie   \n",
       "\n",
       "                                                text language  \\\n",
       "0  Awakening Our Truth: This video forced me to q...  english   \n",
       "1  Home / News / Fox News Just Exposed Hillary’s ...  english   \n",
       "2  One of the themes of this election cycle in Am...  english   \n",
       "3  Prev post Page 1 of 4 Next \\nNurses are among ...  english   \n",
       "4  Bank of Canada Commentary Whipsaws Loonie   \\n...  english   \n",
       "\n",
       "                  site_url country  \n",
       "0    theeventchronicle.com      US  \n",
       "1              departed.co      US  \n",
       "2       freedomoutpost.com      US  \n",
       "3    undergroundhealth.com      BG  \n",
       "4  investmentwatchblog.com      US  "
      ]
     },
     "execution_count": 3,
     "metadata": {},
     "output_type": "execute_result"
    }
   ],
   "source": [
    "df = pd.read_csv('fake.csv', usecols = ['uuid','author','title','text','language','site_url','country'])\n",
    "df = df[df.language == 'english']\n",
    "df = df[df.text.map(type) == str]\n",
    "df.title.fillna('', inplace = True)\n",
    "df.dropna(axis=0, inplace=True, subset=['text'])\n",
    "#shuffling the dataset\n",
    "df = df.sample(frac=1.0)\n",
    "df.reset_index(drop=True,inplace=True)\n",
    "df.head()"
   ]
  },
  {
   "cell_type": "code",
   "execution_count": 5,
   "metadata": {},
   "outputs": [
    {
     "name": "stderr",
     "output_type": "stream",
     "text": [
      "[nltk_data] Downloading package stopwords to\n",
      "[nltk_data]     C:\\Users\\Pundeer\\AppData\\Roaming\\nltk_data...\n",
      "[nltk_data]   Package stopwords is already up-to-date!\n",
      "[nltk_data] Downloading package punkt to\n",
      "[nltk_data]     C:\\Users\\Pundeer\\AppData\\Roaming\\nltk_data...\n",
      "[nltk_data]   Package punkt is already up-to-date!\n",
      "[nltk_data] Downloading package wordnet to\n",
      "[nltk_data]     C:\\Users\\Pundeer\\AppData\\Roaming\\nltk_data...\n",
      "[nltk_data]   Package wordnet is already up-to-date!\n"
     ]
    }
   ],
   "source": [
    "nltk.download('stopwords')\n",
    "nltk.download('punkt')\n",
    "nltk.download('wordnet')\n",
    "\n",
    "def initial_clean(text):\n",
    "    # Function to clean text of websites, email addresess and any punctuation. We also lower case the text\n",
    "    text = re.sub(\"((\\S+)?(http(s)?)(\\S+))|((\\S+)?(www)(\\S+))|((\\S+)?(\\@)(\\S+)?)\", \" \", text)\n",
    "    text = re.sub(\"[^a-zA-Z ]\", \"\", text)\n",
    "    text = text.lower() # lower case the text\n",
    "    text = nltk.word_tokenize(text)\n",
    "    return text\n",
    "\n",
    "stop_words = stopwords.words('english')\n",
    "def remove_stop_words(text):\n",
    "    # Function that removes all stopwords from text\n",
    "    return [word for word in text if word not in stop_words]\n",
    "\n",
    "stemmer = nltk.WordNetLemmatizer()\n",
    "def stem_words(text):\n",
    "    # Function to stem words, so plural and singular are treated the same\n",
    "    try:\n",
    "        text = [stemmer.lemmatize(word) for word in text]\n",
    "        text = [word for word in text if len(word) > 1] # make sure we have no 1 letter words\n",
    "    except IndexError:\n",
    "        pass\n",
    "    return text\n",
    "\n",
    "def apply_all(text):\n",
    "    return stem_words(remove_stop_words(initial_clean(text)))"
   ]
  },
  {
   "cell_type": "code",
   "execution_count": 6,
   "metadata": {},
   "outputs": [
    {
     "name": "stdout",
     "output_type": "stream",
     "text": [
      "Time to clean and tokenize 12357 articles: 5.172296452522278 min\n"
     ]
    }
   ],
   "source": [
    "t1 = time.time()\n",
    "df['tokenized'] = df['text'].apply(apply_all) + df['title'].apply(apply_all)\n",
    "t2 = time.time()\n",
    "print(\"Time to clean and tokenize\", len(df), \"articles:\", (t2-t1)/60, \"min\")"
   ]
  },
  {
   "cell_type": "markdown",
   "metadata": {},
   "source": [
    "***Using word frequency to filter only top used words***"
   ]
  },
  {
   "cell_type": "code",
   "execution_count": 7,
   "metadata": {},
   "outputs": [
    {
     "data": {
      "text/plain": [
       "116512"
      ]
     },
     "execution_count": 7,
     "metadata": {},
     "output_type": "execute_result"
    }
   ],
   "source": [
    "all_words = [word for item in list(df['tokenized']) for word in item]\n",
    "fdist = FreqDist(all_words)\n",
    "len(fdist) # number of unique words"
   ]
  },
  {
   "cell_type": "code",
   "execution_count": 8,
   "metadata": {},
   "outputs": [
    {
     "data": {
      "text/plain": [
       "[('succumbing', 12),\n",
       " ('reenter', 12),\n",
       " ('antius', 12),\n",
       " ('rerouting', 12),\n",
       " ('pigeon', 12),\n",
       " ('markle', 12),\n",
       " ('speculates', 12),\n",
       " ('councillor', 12),\n",
       " ('taunting', 12),\n",
       " ('endeavour', 12)]"
      ]
     },
     "execution_count": 8,
     "metadata": {},
     "output_type": "execute_result"
    }
   ],
   "source": [
    "k = 20000\n",
    "top_k_words = fdist.most_common(k)\n",
    "top_k_words[-10:]"
   ]
  },
  {
   "cell_type": "code",
   "execution_count": 9,
   "metadata": {},
   "outputs": [],
   "source": [
    "top_k_words,_ = zip(*fdist.most_common(k))\n",
    "top_k_words = set(top_k_words)\n",
    "def keep_top_k_words(text):\n",
    "    return [word for word in text if word in top_k_words]"
   ]
  },
  {
   "cell_type": "code",
   "execution_count": 10,
   "metadata": {},
   "outputs": [],
   "source": [
    "df['tokenized'] = df['tokenized'].apply(keep_top_k_words)"
   ]
  },
  {
   "cell_type": "code",
   "execution_count": 11,
   "metadata": {},
   "outputs": [
    {
     "name": "stdout",
     "output_type": "stream",
     "text": [
      "12357 339.998381484179 0 11405\n"
     ]
    }
   ],
   "source": [
    "doc_len = df.tokenized.apply(lambda x : len(x))\n",
    "print(len(doc_len), np.mean(doc_len), min(doc_len), max(doc_len))"
   ]
  },
  {
   "cell_type": "code",
   "execution_count": 12,
   "metadata": {},
   "outputs": [
    {
     "data": {
      "image/png": "[encoded data removed]",
      "text/plain": [
       "<Figure size 864x360 with 1 Axes>"
      ]
     },
     "metadata": {},
     "output_type": "display_data"
    }
   ],
   "source": [
    "fig, ax = plt.subplots(figsize = (12,5))\n",
    "# the histogram of the data\n",
    "ax.hist(doc_len, 1000, density=True)\n",
    "ax.set_xlabel('Document Length (tokens)')\n",
    "ax.set_ylabel('Normed Frequency')\n",
    "plt.xlim(0,2000)\n",
    "ax.plot([np.average(doc_len) for i in np.linspace(0.0,0.0035,100)], np.linspace(0.0,0.0035,100), '-',\n",
    "         label='average doc length')\n",
    "ax.legend()\n",
    "ax.grid()\n",
    "fig.tight_layout()\n",
    "plt.show()"
   ]
  },
  {
   "cell_type": "markdown",
   "metadata": {},
   "source": [
    "### Dropping short articles\n",
    "\n",
    "LDA does not work very well on short documents, which we will explain later, so we will drop some of the shorter articles here before training the model."
   ]
  },
  {
   "cell_type": "code",
   "execution_count": 13,
   "metadata": {},
   "outputs": [
    {
     "data": {
      "text/plain": [
       "10540"
      ]
     },
     "execution_count": 13,
     "metadata": {},
     "output_type": "execute_result"
    }
   ],
   "source": [
    "# Only keeping articles with more than 50 tokens\n",
    "df = df[df.tokenized.map(len) >= 50]\n",
    "df = df[df.tokenized.map(type) == list]\n",
    "df.reset_index(drop=True, inplace = True)\n",
    "len(df)"
   ]
  },
  {
   "cell_type": "code",
   "execution_count": 14,
   "metadata": {},
   "outputs": [
    {
     "data": {
      "text/html": [
       "<div>\n",
       "<style scoped>\n",
       "    .dataframe tbody tr th:only-of-type {\n",
       "        vertical-align: middle;\n",
       "    }\n",
       "\n",
       "    .dataframe tbody tr th {\n",
       "        vertical-align: top;\n",
       "    }\n",
       "\n",
       "    .dataframe thead th {\n",
       "        text-align: right;\n",
       "    }\n",
       "</style>\n",
       "<table border=\"1\" class=\"dataframe\">\n",
       "  <thead>\n",
       "    <tr style=\"text-align: right;\">\n",
       "      <th></th>\n",
       "      <th>uuid</th>\n",
       "      <th>author</th>\n",
       "      <th>title</th>\n",
       "      <th>text</th>\n",
       "      <th>language</th>\n",
       "      <th>site_url</th>\n",
       "      <th>country</th>\n",
       "      <th>tokenized</th>\n",
       "    </tr>\n",
       "  </thead>\n",
       "  <tbody>\n",
       "    <tr>\n",
       "      <th>0</th>\n",
       "      <td>0f5065318e26607b5284254e1b5dbeeecc24433e</td>\n",
       "      <td>Editor</td>\n",
       "      <td>The Pleiadian Video That Triggered My Kundalin...</td>\n",
       "      <td>Awakening Our Truth: This video forced me to q...</td>\n",
       "      <td>english</td>\n",
       "      <td>theeventchronicle.com</td>\n",
       "      <td>US</td>\n",
       "      <td>[awakening, truth, video, forced, question, be...</td>\n",
       "    </tr>\n",
       "    <tr>\n",
       "      <th>1</th>\n",
       "      <td>d02c774f3cfbd9a58ac425ebed784da28bc4d7e9</td>\n",
       "      <td>NaN</td>\n",
       "      <td>Fox News Just Exposed Hillary’s ILLEGAL VOTING...</td>\n",
       "      <td>Home / News / Fox News Just Exposed Hillary’s ...</td>\n",
       "      <td>english</td>\n",
       "      <td>departed.co</td>\n",
       "      <td>US</td>\n",
       "      <td>[home, news, fox, news, exposed, hillary, ille...</td>\n",
       "    </tr>\n",
       "    <tr>\n",
       "      <th>2</th>\n",
       "      <td>b23c68b588679f3b2ac663e6a9f4fd915fc89fcb</td>\n",
       "      <td>Scott Buss</td>\n",
       "      <td>Hope, Change, Lies and Greatness</td>\n",
       "      <td>One of the themes of this election cycle in Am...</td>\n",
       "      <td>english</td>\n",
       "      <td>freedomoutpost.com</td>\n",
       "      <td>US</td>\n",
       "      <td>[one, theme, election, cycle, america, clarity...</td>\n",
       "    </tr>\n",
       "    <tr>\n",
       "      <th>3</th>\n",
       "      <td>085bf8677085aecc02a1dd01fd6c1cbb6186d852</td>\n",
       "      <td>NaN</td>\n",
       "      <td>Reduce Nurse Burnout by Treating Nurses as Wel...</td>\n",
       "      <td>Prev post Page 1 of 4 Next \\nNurses are among ...</td>\n",
       "      <td>english</td>\n",
       "      <td>undergroundhealth.com</td>\n",
       "      <td>BG</td>\n",
       "      <td>[prev, post, page, next, nurse, among, profess...</td>\n",
       "    </tr>\n",
       "    <tr>\n",
       "      <th>4</th>\n",
       "      <td>08aacc219b96583768b322ce7e2ee9e9294948e9</td>\n",
       "      <td>IWB</td>\n",
       "      <td>Bank of Canada Commentary Whipsaws Loonie</td>\n",
       "      <td>Bank of Canada Commentary Whipsaws Loonie   \\n...</td>\n",
       "      <td>english</td>\n",
       "      <td>investmentwatchblog.com</td>\n",
       "      <td>US</td>\n",
       "      <td>[bank, canada, commentary, last, two, week, we...</td>\n",
       "    </tr>\n",
       "  </tbody>\n",
       "</table>\n",
       "</div>"
      ],
      "text/plain": [
       "                                       uuid      author  \\\n",
       "0  0f5065318e26607b5284254e1b5dbeeecc24433e      Editor   \n",
       "1  d02c774f3cfbd9a58ac425ebed784da28bc4d7e9         NaN   \n",
       "2  b23c68b588679f3b2ac663e6a9f4fd915fc89fcb  Scott Buss   \n",
       "3  085bf8677085aecc02a1dd01fd6c1cbb6186d852         NaN   \n",
       "4  08aacc219b96583768b322ce7e2ee9e9294948e9         IWB   \n",
       "\n",
       "                                               title  \\\n",
       "0  The Pleiadian Video That Triggered My Kundalin...   \n",
       "1  Fox News Just Exposed Hillary’s ILLEGAL VOTING...   \n",
       "2                   Hope, Change, Lies and Greatness   \n",
       "3  Reduce Nurse Burnout by Treating Nurses as Wel...   \n",
       "4          Bank of Canada Commentary Whipsaws Loonie   \n",
       "\n",
       "                                                text language  \\\n",
       "0  Awakening Our Truth: This video forced me to q...  english   \n",
       "1  Home / News / Fox News Just Exposed Hillary’s ...  english   \n",
       "2  One of the themes of this election cycle in Am...  english   \n",
       "3  Prev post Page 1 of 4 Next \\nNurses are among ...  english   \n",
       "4  Bank of Canada Commentary Whipsaws Loonie   \\n...  english   \n",
       "\n",
       "                  site_url country  \\\n",
       "0    theeventchronicle.com      US   \n",
       "1              departed.co      US   \n",
       "2       freedomoutpost.com      US   \n",
       "3    undergroundhealth.com      BG   \n",
       "4  investmentwatchblog.com      US   \n",
       "\n",
       "                                           tokenized  \n",
       "0  [awakening, truth, video, forced, question, be...  \n",
       "1  [home, news, fox, news, exposed, hillary, ille...  \n",
       "2  [one, theme, election, cycle, america, clarity...  \n",
       "3  [prev, post, page, next, nurse, among, profess...  \n",
       "4  [bank, canada, commentary, last, two, week, we...  "
      ]
     },
     "execution_count": 14,
     "metadata": {},
     "output_type": "execute_result"
    }
   ],
   "source": [
    "df.head()"
   ]
  },
  {
   "cell_type": "markdown",
   "metadata": {},
   "source": [
    "##### Splitting the dataset into training and testing set"
   ]
  },
  {
   "cell_type": "code",
   "execution_count": 15,
   "metadata": {},
   "outputs": [
    {
     "name": "stdout",
     "output_type": "stream",
     "text": [
      "9510 1030\n"
     ]
    }
   ],
   "source": [
    "msk = np.random.rand(len(df)) < 0.9\n",
    "\n",
    "train_df = df[msk]\n",
    "train_df.reset_index(drop=True,inplace=True)\n",
    "\n",
    "test_df = df[~msk]\n",
    "test_df.reset_index(drop=True,inplace=True)\n",
    "print(len(train_df), len(test_df))"
   ]
  },
  {
   "cell_type": "markdown",
   "metadata": {},
   "source": [
    "### LDA\n",
    "Latent Dirichlet Allocation, is an unsupervised generative model that assigns topic distributions to documents. There a several ways to implement LDA, however I will speak about collapsed gibbs sampling as I usually find this to be the easiest way to understand it.\n",
    "\n",
    "The model initialises by assigning every word in every document to a random topic. Then, we iterate through each word, unassign it's current topic, decrement the topic count corpus wide and reassign the word to a new topic based on the local probability of topic assignemnts to the current document, and the global (corpus wide) probability of the word assignments to the current topic. This may be hard to understand in words, so the equations are below.\n",
    "\n",
    "#### The mathematics of collapsed gibbs sampling (cut back version)\n",
    "\n",
    "Recall that when we iterate through each word in each document, we unassign its current topic assignment and reassign the word to a new topic. The topic we reassign the word to is based on the probabilities below.\n",
    "\n",
    "$$\n",
    "P\\left(\\text{document \"likes\" the topic}\\right) \\times P\\left(\\text{topic \"likes\" the word } w'\\right)\n",
    "$$\n",
    "\n",
    "$$\n",
    "\\Rightarrow \\frac{n_{i,k}+\\alpha}{N_i-1+K\\alpha} \\times \\frac{m_{w',k}+\\gamma}{\\sum_{w\\in V}m_{w,k} + V\\gamma}\n",
    "$$\n",
    "\n",
    "where\n",
    "\n",
    "$n_{i,k}$ - number of word assignments to topic $k$ in document $i$\n",
    "\n",
    "$n_{i,k}$ - number of assignments to topic $k$ in document $i$\n",
    "\n",
    "$\\alpha$ - smoothing parameter (hyper parameter - make sure probability is never 0)\n",
    "\n",
    "$N_i$ - number of words in document $i$\n",
    "\n",
    "$-1$ - don't count the current word you're on\n",
    "\n",
    "$K$ - total number of topics\n",
    "\n",
    "\n",
    "$m_{w',k}$ - number of assignments, corpus wide, of word $w'$ to topic $k$\n",
    "\n",
    "$m_{w',k}$ - number of assignments, corpus wide, of word $w'$ to topic $k$\n",
    "\n",
    "$\\gamma$ - smoothing parameter (hyper parameter - make sure probability is never 0)\n",
    "\n",
    "$\\sum_{w\\in V}m_{w,k}$ - sum over all words in vocabulary currently assigned to topic $k$\n",
    "\n",
    "$V$ size of vocabulary i.e. number of distinct words corpus wide"
   ]
  },
  {
   "cell_type": "code",
   "execution_count": 16,
   "metadata": {},
   "outputs": [],
   "source": [
    "def train_lda(data):\n",
    "    #We do 2 passes of the data since this is a small dataset, so we want the distributions to stabilize\n",
    "    dictionary = corpora.Dictionary(data['tokenized'])\n",
    "    corpus = [dictionary.doc2bow(doc) for doc in data['tokenized']]\n",
    "    # low alpha means each document is only represented by a small number of topics, and vice versa\n",
    "    # low eta means each topic is only represented by a small number of words, and vice versa\n",
    "    lda = LdaModel(corpus = corpus, num_topics = 100, id2word = dictionary,\n",
    "                   alpha = 1e-2, eta = 0.5e-2, chunksize = 300, minimum_probability = 0.0, passes = 2)\n",
    "    return dictionary,corpus,lda"
   ]
  },
  {
   "cell_type": "code",
   "execution_count": 17,
   "metadata": {},
   "outputs": [],
   "source": [
    "dictionary,corpus,lda = train_lda(train_df)"
   ]
  },
  {
   "cell_type": "code",
   "execution_count": 18,
   "metadata": {},
   "outputs": [
    {
     "data": {
      "text/plain": [
       "[(89,\n",
       "  '0.249*\"film\" + 0.171*\"movie\" + 0.063*\"hollywood\" + 0.058*\"jason\" + 0.034*\"industry\" + 0.034*\"concert\" + 0.034*\"actor\" + 0.032*\"filmmaker\" + 0.025*\"robert\" + 0.021*\"character\" + 0.020*\"story\" + 0.018*\"mentor\" + 0.015*\"play\" + 0.014*\"director\" + 0.013*\"awardwinning\" + 0.012*\"viewer\" + 0.012*\"predicts\" + 0.012*\"series\" + 0.010*\"yang\" + 0.009*\"list\"'),\n",
       " (81,\n",
       "  '0.046*\"facebook\" + 0.042*\"medium\" + 0.033*\"news\" + 0.028*\"twitter\" + 0.027*\"social\" + 0.023*\"user\" + 0.022*\"google\" + 0.022*\"page\" + 0.018*\"information\" + 0.017*\"post\" + 0.017*\"network\" + 0.015*\"website\" + 0.014*\"account\" + 0.012*\"help\" + 0.012*\"content\" + 0.011*\"youtube\" + 0.010*\"support\" + 0.010*\"site\" + 0.010*\"automatically\" + 0.009*\"today\"'),\n",
       " (8,\n",
       "  '0.191*\"black\" + 0.077*\"student\" + 0.051*\"university\" + 0.031*\"community\" + 0.025*\"college\" + 0.023*\"professor\" + 0.020*\"campus\" + 0.018*\"color\" + 0.015*\"school\" + 0.013*\"life\" + 0.013*\"matter\" + 0.013*\"slavery\" + 0.011*\"group\" + 0.010*\"african\" + 0.009*\"speech\" + 0.009*\"movement\" + 0.008*\"justice\" + 0.008*\"diversity\" + 0.007*\"nelson\" + 0.007*\"activist\"'),\n",
       " (61,\n",
       "  '0.044*\"year\" + 0.019*\"last\" + 0.015*\"time\" + 0.015*\"month\" + 0.012*\"since\" + 0.011*\"number\" + 0.010*\"rate\" + 0.009*\"high\" + 0.008*\"world\" + 0.008*\"next\" + 0.007*\"week\" + 0.007*\"going\" + 0.007*\"move\" + 0.007*\"would\" + 0.007*\"coming\" + 0.007*\"day\" + 0.006*\"low\" + 0.006*\"level\" + 0.006*\"end\" + 0.006*\"higher\"'),\n",
       " (49,\n",
       "  '0.078*\"october\" + 0.035*\"hillary\" + 0.029*\"video\" + 0.028*\"show\" + 0.028*\"image\" + 0.025*\"pm\" + 0.024*\"posted\" + 0.023*\"rally\" + 0.019*\"tweet\" + 0.018*\"watch\" + 0.017*\"share\" + 0.017*\"sign\" + 0.017*\"twitter\" + 0.016*\"moore\" + 0.015*\"michael\" + 0.015*\"photo\" + 0.014*\"crowd\" + 0.012*\"via\" + 0.012*\"featured\" + 0.011*\"supporter\"'),\n",
       " (17,\n",
       "  '0.114*\"russia\" + 0.110*\"russian\" + 0.071*\"putin\" + 0.021*\"vladimir\" + 0.019*\"moscow\" + 0.015*\"president\" + 0.010*\"country\" + 0.010*\"said\" + 0.010*\"relation\" + 0.009*\"state\" + 0.008*\"kremlin\" + 0.008*\"foreign\" + 0.008*\"interest\" + 0.008*\"international\" + 0.008*\"american\" + 0.008*\"world\" + 0.007*\"attack\" + 0.007*\"political\" + 0.007*\"united\" + 0.007*\"propaganda\"'),\n",
       " (16,\n",
       "  '0.180*\"mr\" + 0.071*\"immigrant\" + 0.071*\"border\" + 0.070*\"illegal\" + 0.059*\"immigration\" + 0.029*\"country\" + 0.029*\"wall\" + 0.027*\"mexico\" + 0.021*\"illegals\" + 0.020*\"united\" + 0.015*\"law\" + 0.013*\"alien\" + 0.013*\"american\" + 0.012*\"citizen\" + 0.011*\"illegally\" + 0.011*\"deportation\" + 0.010*\"kennedy\" + 0.010*\"visa\" + 0.010*\"heather\" + 0.009*\"obama\"'),\n",
       " (42,\n",
       "  '0.026*\"duck\" + 0.025*\"crop\" + 0.022*\"farmer\" + 0.018*\"david\" + 0.014*\"curcumin\" + 0.014*\"panic\" + 0.014*\"state\" + 0.012*\"day\" + 0.012*\"costume\" + 0.011*\"daily\" + 0.011*\"pesticide\" + 0.011*\"genetically\" + 0.011*\"corn\" + 0.010*\"portfolio\" + 0.010*\"holiday\" + 0.009*\"accuses\" + 0.009*\"egg\" + 0.008*\"chart\" + 0.008*\"november\" + 0.008*\"world\"'),\n",
       " (45,\n",
       "  '0.078*\"vote\" + 0.075*\"election\" + 0.045*\"voter\" + 0.041*\"voting\" + 0.025*\"state\" + 0.020*\"machine\" + 0.016*\"ballot\" + 0.014*\"republican\" + 0.014*\"democrat\" + 0.013*\"electoral\" + 0.013*\"fraud\" + 0.011*\"candidate\" + 0.011*\"poll\" + 0.010*\"rigged\" + 0.009*\"hillary\" + 0.009*\"polling\" + 0.008*\"people\" + 0.007*\"win\" + 0.007*\"voted\" + 0.007*\"early\"'),\n",
       " (1,\n",
       "  '0.057*\"object\" + 0.041*\"earth\" + 0.032*\"moon\" + 0.030*\"sky\" + 0.023*\"sun\" + 0.023*\"photo\" + 0.023*\"planet\" + 0.023*\"time\" + 0.022*\"nasa\" + 0.017*\"new\" + 0.016*\"light\" + 0.016*\"th\" + 0.015*\"distance\" + 0.015*\"instagram\" + 0.015*\"documentary\" + 0.014*\"pilot\" + 0.014*\"november\" + 0.014*\"sign\" + 0.012*\"nature\" + 0.012*\"around\"')]"
      ]
     },
     "execution_count": 18,
     "metadata": {},
     "output_type": "execute_result"
    }
   ],
   "source": [
    "# show_topics method shows the the top num_words contributing to num_topics number of random topics\n",
    "lda.show_topics(num_topics=10, num_words=20)"
   ]
  },
  {
   "cell_type": "code",
   "execution_count": 19,
   "metadata": {},
   "outputs": [
    {
     "data": {
      "text/plain": [
       "[('blast', 0.11763519),\n",
       " ('explosion', 0.0953096),\n",
       " ('bright', 0.09349361),\n",
       " ('lebanon', 0.09206834),\n",
       " ('treasure', 0.07466613),\n",
       " ('du', 0.07369618),\n",
       " ('ka', 0.061259117),\n",
       " ('confession', 0.054497357),\n",
       " ('eyewitness', 0.043312),\n",
       " ('spine', 0.038733754),\n",
       " ('mac', 0.03577423),\n",
       " ('medieval', 0.032397076),\n",
       " ('outskirt', 0.02960012),\n",
       " ('signaling', 0.020796245),\n",
       " ('precursor', 0.020239893),\n",
       " ('shrine', 0.014286592),\n",
       " ('slavo', 0.013067778),\n",
       " ('shah', 0.006945925),\n",
       " ('complex', 0.0038769266),\n",
       " ('fuel', 0.0029780315)]"
      ]
     },
     "execution_count": 19,
     "metadata": {},
     "output_type": "execute_result"
    }
   ],
   "source": [
    "lda.show_topic(topicid=55, topn=20)"
   ]
  },
  {
   "cell_type": "markdown",
   "metadata": {},
   "source": [
    "Note that if you re run the model again, as it is non-deterministic, word contributions to topics and topic ID's will change."
   ]
  },
  {
   "cell_type": "code",
   "execution_count": 20,
   "metadata": {},
   "outputs": [
    {
     "name": "stdout",
     "output_type": "stream",
     "text": [
      "7860\n"
     ]
    }
   ],
   "source": [
    "# select and article at random from train_df\n",
    "random_article_index = np.random.randint(len(train_df))\n",
    "bow = dictionary.doc2bow(train_df.iloc[random_article_index,7])\n",
    "print(random_article_index)"
   ]
  },
  {
   "cell_type": "code",
   "execution_count": 21,
   "metadata": {},
   "outputs": [
    {
     "name": "stdout",
     "output_type": "stream",
     "text": [
      "Scotland warns of no access to EU single market after Brexit Scotland warns of no access to EU single market after Brexit By 0 149 \n",
      "Scottish Secretary of State David Mundell has warned about the consequences of the UK’s withdrawal from the European Union (EU), saying Brexit would cut access to the single market. \n",
      "Mundell told members of the Scottish Parliament on Thursday that neither Scotland nor any other part of the UK was going to get a “special deal” during the negotiations with the EU. \n",
      "“So there are very specific issues to specific industries, but there won’t be special deals and it’s absolutely wrong to characterize a suggestion that certain areas of the country will get a special deal and Scotland will not,” he said. \n",
      "“I accept on one level, if we are leaving the EU then essentially we are leaving the single market but access to the single market can, I think, continue in a way that doesn’t involve tariffs or barriers,” the secretary continued. \n",
      "British and Scottish officials have long been engaged in a war of words over the Brexit process, with Scotland asking for…\n"
     ]
    }
   ],
   "source": [
    "print(train_df.iloc[random_article_index,3])"
   ]
  },
  {
   "cell_type": "code",
   "execution_count": 22,
   "metadata": {},
   "outputs": [],
   "source": [
    "# get the topic contributions for the document chosen at random above\n",
    "doc_distribution = np.array([tup[1] for tup in lda.get_document_topics(bow=bow)])"
   ]
  },
  {
   "cell_type": "code",
   "execution_count": 23,
   "metadata": {},
   "outputs": [
    {
     "data": {
      "image/png": "[encoded data removed]",
      "text/plain": [
       "<Figure size 864x360 with 1 Axes>"
      ]
     },
     "metadata": {},
     "output_type": "display_data"
    }
   ],
   "source": [
    "fig, ax = plt.subplots(figsize=(12,5));\n",
    "# the histogram of the data\n",
    "patches = ax.bar(np.arange(len(doc_distribution)), doc_distribution)\n",
    "ax.set_xlabel('Topic ID', fontsize=15)\n",
    "ax.set_ylabel('Topic Contribution', fontsize=15)\n",
    "ax.set_title(\"Topic Distribution for Article \" + str(random_article_index), fontsize=20)\n",
    "ax.set_xticks(np.linspace(10,100,10))\n",
    "fig.tight_layout()\n",
    "plt.show()"
   ]
  },
  {
   "cell_type": "code",
   "execution_count": 24,
   "metadata": {},
   "outputs": [
    {
     "name": "stdout",
     "output_type": "stream",
     "text": [
      "93 [('british', 0.048411634), ('india', 0.04618613), ('minister', 0.04455518), ('european', 0.04396181), ('uk', 0.038144484), ('britain', 0.03473597), ('indian', 0.02511346), ('prime', 0.024735961), ('europe', 0.0222783), ('pakistan', 0.022020914)] \n",
      "\n",
      "61 [('year', 0.043747604), ('last', 0.018988136), ('time', 0.014783803), ('month', 0.014575398), ('since', 0.012493839), ('number', 0.010671582), ('rate', 0.010248711), ('high', 0.008603026), ('world', 0.007906303), ('next', 0.007844956)] \n",
      "\n",
      "64 [('would', 0.008414638), ('view', 0.0074383267), ('however', 0.00699636), ('example', 0.006942853), ('policy', 0.0068165553), ('point', 0.0064298958), ('also', 0.0060400795), ('current', 0.005797024), ('one', 0.005796635), ('fact', 0.005787944)] \n",
      "\n",
      "58 [('eu', 0.14134079), ('brexit', 0.12881023), ('england', 0.069884695), ('referendum', 0.055007674), ('london', 0.050153486), ('prayer', 0.04912009), ('persecution', 0.023132842), ('decision', 0.0195106), ('leave', 0.017633365), ('moron', 0.016824475)] \n",
      "\n",
      "6 [('like', 0.0149340555), ('know', 0.014722007), ('dont', 0.013500771), ('one', 0.012887221), ('get', 0.012861551), ('people', 0.012606216), ('going', 0.0120994), ('think', 0.010969056), ('thing', 0.010680198), ('say', 0.010144857)] \n",
      "\n"
     ]
    }
   ],
   "source": [
    "# print the top 5 contributing topics and their words\n",
    "for i in doc_distribution.argsort()[-5:][::-1]:\n",
    "    print(i, lda.show_topic(topicid=i, topn=10), \"\\n\")"
   ]
  },
  {
   "cell_type": "markdown",
   "metadata": {},
   "source": [
    "Let's interpret this.\n",
    "\n",
    "Topic 94  - Presidential Election\n",
    "\n",
    "Topic 31 - Races\n",
    "\n",
    "Topic 67 - Drug War\n",
    "\n",
    "Topic 55 - God and Evil\n",
    "\n",
    "Topic 38 - Scientific actions\n",
    "\n",
    "These are rough interpretations for these topics, most of which make sense."
   ]
  },
  {
   "cell_type": "markdown",
   "metadata": {},
   "source": [
    "### Similarity Queries and Unseen Data\n",
    "\n",
    "We will now turn our attention to the test set of data which the model has not yet seen. Although the articles in *test_df* have been unseen by the model, gensim has a way of infering their topic distributions given the trained model. Of course, the correct approach to yield accurate results would be to retrain the model with these new articles part of the corpus, but this can be timely and infeasable in a real case scenario where results are needed quickly.\n"
   ]
  },
  {
   "cell_type": "code",
   "execution_count": 81,
   "metadata": {},
   "outputs": [
    {
     "name": "stdout",
     "output_type": "stream",
     "text": [
      "780\n"
     ]
    }
   ],
   "source": [
    "# select and article at random from test_df\n",
    "random_article_index = np.random.randint(len(test_df))\n",
    "print(random_article_index)"
   ]
  },
  {
   "cell_type": "code",
   "execution_count": 82,
   "metadata": {},
   "outputs": [],
   "source": [
    "new_bow = dictionary.doc2bow(test_df.iloc[random_article_index,7])"
   ]
  },
  {
   "cell_type": "code",
   "execution_count": 83,
   "metadata": {},
   "outputs": [
    {
     "name": "stdout",
     "output_type": "stream",
     "text": [
      "  \n",
      "Donald Trump is facing harsh criticism for the job he is doing as a citizen. \n",
      "\"Wow, this guy won the election a whole week ago and he hasn't even started being president yet. What were we thinking?\" said Skip Homeyer of the Whipperford Post website, adding that \"he probably didn't even read the Constitution.\" \n",
      "NBC News, a news station with reporters and everything, complained that Trump \"hadn't kept any of his campaign promises\" and added that although \"that was because he really hadn't done anything yet\" that still was no excuse. \n",
      "Some of the people Trump has chosen to lead his team have also drawn harsh criticism from the media. Some of the names mentioned were Rudy Giuliani, Newt Gingrich, Adolph Hitler, Adolph Hitler's son and Cerberus. The last three were unofficial. \n",
      "\"We expected much more from him. That's why none of us want him to take office\" said one reporter who wanted to remain nameless, because he actually had no legal name. He then added that \"people are getting fed up with all of Trump's racism that he'll probably do eventually.\" \n",
      "He then added \"Trump did win, right?\" Make Jeff Brone's day - give this story five thumbs-up (there's no need to register , the thumbs are just down there!)\n"
     ]
    }
   ],
   "source": [
    "print(test_df.iloc[random_article_index,3])"
   ]
  },
  {
   "cell_type": "code",
   "execution_count": 84,
   "metadata": {},
   "outputs": [],
   "source": [
    "new_doc_distribution = np.array([tup[1] for tup in lda.get_document_topics(bow=new_bow)])"
   ]
  },
  {
   "cell_type": "code",
   "execution_count": 85,
   "metadata": {},
   "outputs": [
    {
     "data": {
      "image/png": "[encoded data removed]",
      "text/plain": [
       "<Figure size 864x360 with 1 Axes>"
      ]
     },
     "metadata": {},
     "output_type": "display_data"
    }
   ],
   "source": [
    "fig, ax = plt.subplots(figsize=(12,5));\n",
    "# the histogram of the data\n",
    "patches = ax.bar(np.arange(len(new_doc_distribution)), new_doc_distribution)\n",
    "ax.set_xlabel('Topic ID', fontsize=15)\n",
    "ax.set_ylabel('Topic Contribution', fontsize=15)\n",
    "ax.set_title(\"Topic Distribution for Article \" + str(random_article_index), fontsize=20)\n",
    "ax.set_xticks(np.linspace(10,100,10))\n",
    "fig.tight_layout()\n",
    "plt.show()"
   ]
  },
  {
   "cell_type": "code",
   "execution_count": 86,
   "metadata": {},
   "outputs": [
    {
     "name": "stdout",
     "output_type": "stream",
     "text": [
      "6 [('like', 0.0149340555), ('know', 0.014722007), ('dont', 0.013500771), ('one', 0.012887221), ('get', 0.012861551), ('people', 0.012606216), ('going', 0.0120994), ('think', 0.010969056), ('thing', 0.010680198), ('say', 0.010144857)] \n",
      "\n",
      "77 [('trump', 0.1737071), ('donald', 0.044234797), ('election', 0.024539404), ('hillary', 0.019798728), ('american', 0.016206963), ('clinton', 0.016120812), ('president', 0.014565612), ('win', 0.01181988), ('america', 0.010583919), ('republican', 0.010257353)] \n",
      "\n",
      "91 [('medium', 0.035614472), ('news', 0.020730859), ('time', 0.014382548), ('new', 0.01327263), ('election', 0.012701669), ('journalist', 0.011868167), ('story', 0.011482576), ('campaign', 0.010097202), ('york', 0.009876495), ('report', 0.009414355)] \n",
      "\n",
      "64 [('would', 0.008414638), ('view', 0.0074383267), ('however', 0.00699636), ('example', 0.006942853), ('policy', 0.0068165553), ('point', 0.0064298958), ('also', 0.0060400795), ('current', 0.005797024), ('one', 0.005796635), ('fact', 0.005787944)] \n",
      "\n",
      "38 [('obama', 0.02024103), ('new', 0.009874828), ('like', 0.00821675), ('house', 0.006303059), ('one', 0.0036849086), ('would', 0.0033441903), ('name', 0.0033289322), ('bad', 0.0032183225), ('president', 0.0031964264), ('planned', 0.0030478204)] \n",
      "\n"
     ]
    }
   ],
   "source": [
    "# print the top 5 contributing topics and their words\n",
    "for i in new_doc_distribution.argsort()[-5:][::-1]:\n",
    "    print(i, lda.show_topic(topicid=i, topn=10), \"\\n\")"
   ]
  },
  {
   "cell_type": "markdown",
   "metadata": {},
   "source": [
    "An almost accurate topic distribution for an unseen document."
   ]
  },
  {
   "cell_type": "markdown",
   "metadata": {},
   "source": [
    "### Similarity Query   \n",
    "We use the Jensen-Shannon distance metric to find the most similar documents. What the Jensen-Shannon distance tells us, is which documents are statisically \"closer\" (and therefore more similar), by comparing the divergence of their distributions. Jensen-Shannon is symmetric, unlike Kullback-Leibler on which the formula is based. This is good, because we want the similarity between documents A and B to be the same as the similarity between B and A.\n",
    "\n",
    "The formula is described below.\n",
    "\n",
    "For discrete distirbutions $P$ and $Q$, the Jensen-Shannon divergence, $JSD$ is defined as \n",
    "$$JSD\\left(P||Q\\right) = \\frac{1}{2}D\\left(P||M\\right)+\\frac{1}{2}D\\left(Q||M\\right)$$\n",
    "\n",
    "where $M = \\frac{1}{2}\\left(P+Q\\right)$  and $D$ is the Kullback-Leibler divergence   \n",
    "The square root of the Jensen-Shannon divergence is the Jensen-Shannon Distance: $\\sqrt{JSD\\left ( P||Q\\right )}$\n",
    "\n",
    "**The smaller the Jensen-Shannon Distance, the more similar two distributions are (and in our case, the more similar any 2 documents are)**  \n",
    "\n",
    "We can use the scipy implementation of entropy to do this. Entropy calculates the KL divergence.  \n",
    "But first, we need to get all our LDA topic distributions into a dense matrix. This will enable fast and efficient computation.   \n",
    "We will create a dense matrix, **doc_topic_dist**, of size  **𝑀×𝐾**  where  𝑀  is the number of documents and  𝐾  is the number of topics."
   ]
  },
  {
   "cell_type": "code",
   "execution_count": 87,
   "metadata": {},
   "outputs": [],
   "source": [
    "doc_topic_dist = np.array([[tup[1] for tup in lst] for lst in lda[corpus]])"
   ]
  },
  {
   "cell_type": "code",
   "execution_count": 88,
   "metadata": {},
   "outputs": [
    {
     "data": {
      "text/plain": [
       "(9510, 100)"
      ]
     },
     "execution_count": 88,
     "metadata": {},
     "output_type": "execute_result"
    }
   ],
   "source": [
    "doc_topic_dist.shape"
   ]
  },
  {
   "cell_type": "code",
   "execution_count": 89,
   "metadata": {},
   "outputs": [],
   "source": [
    "def jensen_shannon(query, matrix):\n",
    "    # This function implements a Jensen-Shannon similarity between the input query (an LDA topic distribution for a document)\n",
    "    # and the entire corpus of topic distributions. \n",
    "    # It returns an array of length M where M is the number of documents in the corpus\n",
    "\n",
    "    p = query.T # take transpose\n",
    "    q = matrix.T # transpose matrix\n",
    "    m = 0.5*(p + q)\n",
    "    return np.sqrt(0.5*(entropy(p,m) + entropy(q,m)))\n",
    "    #return (p.shape, q.shape)"
   ]
  },
  {
   "cell_type": "code",
   "execution_count": 90,
   "metadata": {},
   "outputs": [],
   "source": [
    "def get_most_similar_documents(query, matrix, k=10):\n",
    "    # This function implements the Jensen-Shannon distance above and \n",
    "    # returns the top k indices of the smallest jensen shannon distances\n",
    "    sims = []\n",
    "    for i in range(len(matrix)):\n",
    "        sim = jensen_shannon(query,matrix[i])\n",
    "        sims.append(sim)\n",
    "    return np.array(sims).argsort()[:k]           # the top k positional index of the smallest Jensen Shannon distances"
   ]
  },
  {
   "cell_type": "markdown",
   "metadata": {},
   "source": [
    "#### Most similar documents\n",
    "\n",
    "We are comparing the new unseen document above to the entire corpus of ~10k documents to find which one is most similar to the new document.\n",
    "\n",
    "How are we doing that? Well, we have the new documents LDA topic distribution in stored as varibale **new_doc_distribution**, and we have the entire corpus of documents topic distributions stored in the dense matrix **doc_topic_dist**. So now, we pass each row of **doc_topic_dist** through the Jensen-Shannon function above as the Q distribution, while the P distribution remains static as **new_doc_distribution**. Then we get the smallest distances and their corresponding index in the array, which we can pass to the **train_df** dataframe to print out the most similar documents."
   ]
  },
  {
   "cell_type": "code",
   "execution_count": 91,
   "metadata": {},
   "outputs": [],
   "source": [
    "# this is surprisingly fast\n",
    "most_sim_ids = get_most_similar_documents(new_doc_distribution, doc_topic_dist)"
   ]
  },
  {
   "cell_type": "code",
   "execution_count": 92,
   "metadata": {},
   "outputs": [
    {
     "data": {
      "text/plain": [
       "859     ‘Right Before Hitler Killed Himself’: Trump In...\n",
       "2458    Trump to star in ‘The President’ a new Reality...\n",
       "2462    LOL! Remember When Obama Told Trump He’d Never...\n",
       "2658    Pack Your Bags: 18 Celebs Who Said They Would ...\n",
       "3291    Liberal MSNBC’s Chris Matthews Makes Unbelieva...\n",
       "3779    AMERICANS DESPERATELY TRYING TO REMEMBER ELECT...\n",
       "4146    Trump Haters Boycott Ivanka’s Clothing Line Be...\n",
       "7760    Trump Mocks Biden's Dare To Take Him 'Behind t...\n",
       "8327                                                     \n",
       "9364    President-Elect Donald Trump's First Televised...\n",
       "Name: title, dtype: object"
      ]
     },
     "execution_count": 92,
     "metadata": {},
     "output_type": "execute_result"
    }
   ],
   "source": [
    "most_similar_df = train_df[train_df.index.isin(most_sim_ids)]\n",
    "most_similar_df['title']"
   ]
  },
  {
   "cell_type": "markdown",
   "metadata": {},
   "source": [
    "I think we can see, the top most similar articles are quite similar indeed to the query article\n",
    "\n",
    "Our query article is about Trump, his choices of team, Adolf Hitler and the election. The top 10 most similar documents in the corpus also contain these topics, as their title show above. The reader can print out the full articles, or visualise the topic distributions for the most similar document and compare them to the query document to check the overlap."
   ]
  },
  {
   "cell_type": "markdown",
   "metadata": {},
   "source": [
    "### Conclusion\n",
    "\n",
    "- After cleaning the corpus and keeping only the top 20,000 words, we reduced the unique words in the corpus by 83%\n",
    "- The LDA model was able to accurately identify different topics in the fake news corpus. We visually inspected these topics to see that the top words were related\n",
    "- We were able to infer a topic distribution from a new unseen document\n",
    "- We quickly retrieved the most similar documents in the trained corpus when comparing to the new unseen document. These most similar documents were in fact closely related to the query document"
   ]
  },
  {
   "cell_type": "code",
   "execution_count": null,
   "metadata": {},
   "outputs": [],
   "source": []
  }
 ],
 "metadata": {
  "kernelspec": {
   "display_name": "Python 3",
   "language": "python",
   "name": "python3"
  },
  "language_info": {
   "codemirror_mode": {
    "name": "ipython",
    "version": 3
   },
   "file_extension": ".py",
   "mimetype": "text/x-python",
   "name": "python",
   "nbconvert_exporter": "python",
   "pygments_lexer": "ipython3",
   "version": "3.6.10"
  }
 },
 "nbformat": 4,
 "nbformat_minor": 4
}
